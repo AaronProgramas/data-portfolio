{
 "cells": [
  {
   "cell_type": "code",
   "execution_count": 29,
   "id": "fb492c23",
   "metadata": {},
   "outputs": [],
   "source": [
    "import pandas as pd"
   ]
  },
  {
   "cell_type": "code",
   "execution_count": 30,
   "id": "06fd97ff",
   "metadata": {},
   "outputs": [],
   "source": [
    "df = pd.read_csv('global_cancer_patients_2015_2024.csv')"
   ]
  },
  {
   "cell_type": "code",
   "execution_count": 31,
   "id": "5fbc4222",
   "metadata": {},
   "outputs": [
    {
     "name": "stdout",
     "output_type": "stream",
     "text": [
      "<class 'pandas.core.frame.DataFrame'>\n",
      "RangeIndex: 50000 entries, 0 to 49999\n",
      "Data columns (total 15 columns):\n",
      " #   Column                 Non-Null Count  Dtype  \n",
      "---  ------                 --------------  -----  \n",
      " 0   Patient_ID             50000 non-null  object \n",
      " 1   Age                    50000 non-null  int64  \n",
      " 2   Gender                 50000 non-null  object \n",
      " 3   Country_Region         50000 non-null  object \n",
      " 4   Year                   50000 non-null  int64  \n",
      " 5   Genetic_Risk           50000 non-null  float64\n",
      " 6   Air_Pollution          50000 non-null  float64\n",
      " 7   Alcohol_Use            50000 non-null  float64\n",
      " 8   Smoking                50000 non-null  float64\n",
      " 9   Obesity_Level          50000 non-null  float64\n",
      " 10  Cancer_Type            50000 non-null  object \n",
      " 11  Cancer_Stage           50000 non-null  object \n",
      " 12  Treatment_Cost_USD     50000 non-null  float64\n",
      " 13  Survival_Years         50000 non-null  float64\n",
      " 14  Target_Severity_Score  50000 non-null  float64\n",
      "dtypes: float64(8), int64(2), object(5)\n",
      "memory usage: 5.7+ MB\n"
     ]
    }
   ],
   "source": [
    "df.info()"
   ]
  },
  {
   "cell_type": "code",
   "execution_count": 32,
   "id": "1995da2d",
   "metadata": {},
   "outputs": [
    {
     "data": {
      "text/html": [
       "<div>\n",
       "<style scoped>\n",
       "    .dataframe tbody tr th:only-of-type {\n",
       "        vertical-align: middle;\n",
       "    }\n",
       "\n",
       "    .dataframe tbody tr th {\n",
       "        vertical-align: top;\n",
       "    }\n",
       "\n",
       "    .dataframe thead th {\n",
       "        text-align: right;\n",
       "    }\n",
       "</style>\n",
       "<table border=\"1\" class=\"dataframe\">\n",
       "  <thead>\n",
       "    <tr style=\"text-align: right;\">\n",
       "      <th></th>\n",
       "      <th>Age</th>\n",
       "      <th>Year</th>\n",
       "      <th>Genetic_Risk</th>\n",
       "      <th>Air_Pollution</th>\n",
       "      <th>Alcohol_Use</th>\n",
       "      <th>Smoking</th>\n",
       "      <th>Obesity_Level</th>\n",
       "      <th>Treatment_Cost_USD</th>\n",
       "      <th>Survival_Years</th>\n",
       "      <th>Target_Severity_Score</th>\n",
       "    </tr>\n",
       "  </thead>\n",
       "  <tbody>\n",
       "    <tr>\n",
       "      <th>count</th>\n",
       "      <td>50000.000000</td>\n",
       "      <td>50000.000000</td>\n",
       "      <td>50000.000000</td>\n",
       "      <td>50000.000000</td>\n",
       "      <td>50000.000000</td>\n",
       "      <td>50000.000000</td>\n",
       "      <td>50000.000000</td>\n",
       "      <td>50000.000000</td>\n",
       "      <td>50000.000000</td>\n",
       "      <td>50000.000000</td>\n",
       "    </tr>\n",
       "    <tr>\n",
       "      <th>mean</th>\n",
       "      <td>54.421540</td>\n",
       "      <td>2019.480520</td>\n",
       "      <td>5.001698</td>\n",
       "      <td>5.010126</td>\n",
       "      <td>5.010880</td>\n",
       "      <td>4.989826</td>\n",
       "      <td>4.991176</td>\n",
       "      <td>52467.298239</td>\n",
       "      <td>5.006462</td>\n",
       "      <td>4.951207</td>\n",
       "    </tr>\n",
       "    <tr>\n",
       "      <th>std</th>\n",
       "      <td>20.224451</td>\n",
       "      <td>2.871485</td>\n",
       "      <td>2.885773</td>\n",
       "      <td>2.888399</td>\n",
       "      <td>2.888769</td>\n",
       "      <td>2.881579</td>\n",
       "      <td>2.894504</td>\n",
       "      <td>27363.229379</td>\n",
       "      <td>2.883335</td>\n",
       "      <td>1.199677</td>\n",
       "    </tr>\n",
       "    <tr>\n",
       "      <th>min</th>\n",
       "      <td>20.000000</td>\n",
       "      <td>2015.000000</td>\n",
       "      <td>0.000000</td>\n",
       "      <td>0.000000</td>\n",
       "      <td>0.000000</td>\n",
       "      <td>0.000000</td>\n",
       "      <td>0.000000</td>\n",
       "      <td>5000.050000</td>\n",
       "      <td>0.000000</td>\n",
       "      <td>0.900000</td>\n",
       "    </tr>\n",
       "    <tr>\n",
       "      <th>25%</th>\n",
       "      <td>37.000000</td>\n",
       "      <td>2017.000000</td>\n",
       "      <td>2.500000</td>\n",
       "      <td>2.500000</td>\n",
       "      <td>2.500000</td>\n",
       "      <td>2.500000</td>\n",
       "      <td>2.500000</td>\n",
       "      <td>28686.225000</td>\n",
       "      <td>2.500000</td>\n",
       "      <td>4.120000</td>\n",
       "    </tr>\n",
       "    <tr>\n",
       "      <th>50%</th>\n",
       "      <td>54.000000</td>\n",
       "      <td>2019.000000</td>\n",
       "      <td>5.000000</td>\n",
       "      <td>5.000000</td>\n",
       "      <td>5.000000</td>\n",
       "      <td>5.000000</td>\n",
       "      <td>5.000000</td>\n",
       "      <td>52474.310000</td>\n",
       "      <td>5.000000</td>\n",
       "      <td>4.950000</td>\n",
       "    </tr>\n",
       "    <tr>\n",
       "      <th>75%</th>\n",
       "      <td>72.000000</td>\n",
       "      <td>2022.000000</td>\n",
       "      <td>7.500000</td>\n",
       "      <td>7.500000</td>\n",
       "      <td>7.500000</td>\n",
       "      <td>7.500000</td>\n",
       "      <td>7.500000</td>\n",
       "      <td>76232.720000</td>\n",
       "      <td>7.500000</td>\n",
       "      <td>5.780000</td>\n",
       "    </tr>\n",
       "    <tr>\n",
       "      <th>max</th>\n",
       "      <td>89.000000</td>\n",
       "      <td>2024.000000</td>\n",
       "      <td>10.000000</td>\n",
       "      <td>10.000000</td>\n",
       "      <td>10.000000</td>\n",
       "      <td>10.000000</td>\n",
       "      <td>10.000000</td>\n",
       "      <td>99999.840000</td>\n",
       "      <td>10.000000</td>\n",
       "      <td>9.160000</td>\n",
       "    </tr>\n",
       "  </tbody>\n",
       "</table>\n",
       "</div>"
      ],
      "text/plain": [
       "                Age          Year  Genetic_Risk  Air_Pollution   Alcohol_Use  \\\n",
       "count  50000.000000  50000.000000  50000.000000   50000.000000  50000.000000   \n",
       "mean      54.421540   2019.480520      5.001698       5.010126      5.010880   \n",
       "std       20.224451      2.871485      2.885773       2.888399      2.888769   \n",
       "min       20.000000   2015.000000      0.000000       0.000000      0.000000   \n",
       "25%       37.000000   2017.000000      2.500000       2.500000      2.500000   \n",
       "50%       54.000000   2019.000000      5.000000       5.000000      5.000000   \n",
       "75%       72.000000   2022.000000      7.500000       7.500000      7.500000   \n",
       "max       89.000000   2024.000000     10.000000      10.000000     10.000000   \n",
       "\n",
       "            Smoking  Obesity_Level  Treatment_Cost_USD  Survival_Years  \\\n",
       "count  50000.000000   50000.000000        50000.000000    50000.000000   \n",
       "mean       4.989826       4.991176        52467.298239        5.006462   \n",
       "std        2.881579       2.894504        27363.229379        2.883335   \n",
       "min        0.000000       0.000000         5000.050000        0.000000   \n",
       "25%        2.500000       2.500000        28686.225000        2.500000   \n",
       "50%        5.000000       5.000000        52474.310000        5.000000   \n",
       "75%        7.500000       7.500000        76232.720000        7.500000   \n",
       "max       10.000000      10.000000        99999.840000       10.000000   \n",
       "\n",
       "       Target_Severity_Score  \n",
       "count           50000.000000  \n",
       "mean                4.951207  \n",
       "std                 1.199677  \n",
       "min                 0.900000  \n",
       "25%                 4.120000  \n",
       "50%                 4.950000  \n",
       "75%                 5.780000  \n",
       "max                 9.160000  "
      ]
     },
     "execution_count": 32,
     "metadata": {},
     "output_type": "execute_result"
    }
   ],
   "source": [
    "df.describe()"
   ]
  },
  {
   "cell_type": "code",
   "execution_count": 33,
   "id": "db811a38",
   "metadata": {},
   "outputs": [
    {
     "data": {
      "text/plain": [
       "Patient_ID               0\n",
       "Age                      0\n",
       "Gender                   0\n",
       "Country_Region           0\n",
       "Year                     0\n",
       "Genetic_Risk             0\n",
       "Air_Pollution            0\n",
       "Alcohol_Use              0\n",
       "Smoking                  0\n",
       "Obesity_Level            0\n",
       "Cancer_Type              0\n",
       "Cancer_Stage             0\n",
       "Treatment_Cost_USD       0\n",
       "Survival_Years           0\n",
       "Target_Severity_Score    0\n",
       "dtype: int64"
      ]
     },
     "execution_count": 33,
     "metadata": {},
     "output_type": "execute_result"
    }
   ],
   "source": [
    "df.isnull().sum()"
   ]
  },
  {
   "cell_type": "code",
   "execution_count": 34,
   "id": "1d8bd30f",
   "metadata": {},
   "outputs": [
    {
     "data": {
      "text/html": [
       "<div>\n",
       "<style scoped>\n",
       "    .dataframe tbody tr th:only-of-type {\n",
       "        vertical-align: middle;\n",
       "    }\n",
       "\n",
       "    .dataframe tbody tr th {\n",
       "        vertical-align: top;\n",
       "    }\n",
       "\n",
       "    .dataframe thead th {\n",
       "        text-align: right;\n",
       "    }\n",
       "</style>\n",
       "<table border=\"1\" class=\"dataframe\">\n",
       "  <thead>\n",
       "    <tr style=\"text-align: right;\">\n",
       "      <th></th>\n",
       "      <th>Patient_ID</th>\n",
       "      <th>Age</th>\n",
       "      <th>Gender</th>\n",
       "      <th>Country_Region</th>\n",
       "      <th>Year</th>\n",
       "      <th>Genetic_Risk</th>\n",
       "      <th>Air_Pollution</th>\n",
       "      <th>Alcohol_Use</th>\n",
       "      <th>Smoking</th>\n",
       "      <th>Obesity_Level</th>\n",
       "      <th>Cancer_Type</th>\n",
       "      <th>Cancer_Stage</th>\n",
       "      <th>Treatment_Cost_USD</th>\n",
       "      <th>Survival_Years</th>\n",
       "      <th>Target_Severity_Score</th>\n",
       "    </tr>\n",
       "  </thead>\n",
       "  <tbody>\n",
       "    <tr>\n",
       "      <th>0</th>\n",
       "      <td>PT0000000</td>\n",
       "      <td>71</td>\n",
       "      <td>Male</td>\n",
       "      <td>UK</td>\n",
       "      <td>2021</td>\n",
       "      <td>6.4</td>\n",
       "      <td>2.8</td>\n",
       "      <td>9.5</td>\n",
       "      <td>0.9</td>\n",
       "      <td>8.7</td>\n",
       "      <td>Lung</td>\n",
       "      <td>Stage III</td>\n",
       "      <td>62913.44</td>\n",
       "      <td>5.9</td>\n",
       "      <td>4.92</td>\n",
       "    </tr>\n",
       "    <tr>\n",
       "      <th>1</th>\n",
       "      <td>PT0000001</td>\n",
       "      <td>34</td>\n",
       "      <td>Male</td>\n",
       "      <td>China</td>\n",
       "      <td>2021</td>\n",
       "      <td>1.3</td>\n",
       "      <td>4.5</td>\n",
       "      <td>3.7</td>\n",
       "      <td>3.9</td>\n",
       "      <td>6.3</td>\n",
       "      <td>Leukemia</td>\n",
       "      <td>Stage 0</td>\n",
       "      <td>12573.41</td>\n",
       "      <td>4.7</td>\n",
       "      <td>4.65</td>\n",
       "    </tr>\n",
       "    <tr>\n",
       "      <th>2</th>\n",
       "      <td>PT0000002</td>\n",
       "      <td>80</td>\n",
       "      <td>Male</td>\n",
       "      <td>Pakistan</td>\n",
       "      <td>2023</td>\n",
       "      <td>7.4</td>\n",
       "      <td>7.9</td>\n",
       "      <td>2.4</td>\n",
       "      <td>4.7</td>\n",
       "      <td>0.1</td>\n",
       "      <td>Breast</td>\n",
       "      <td>Stage II</td>\n",
       "      <td>6984.33</td>\n",
       "      <td>7.1</td>\n",
       "      <td>5.84</td>\n",
       "    </tr>\n",
       "    <tr>\n",
       "      <th>3</th>\n",
       "      <td>PT0000003</td>\n",
       "      <td>40</td>\n",
       "      <td>Male</td>\n",
       "      <td>UK</td>\n",
       "      <td>2015</td>\n",
       "      <td>1.7</td>\n",
       "      <td>2.9</td>\n",
       "      <td>4.8</td>\n",
       "      <td>3.5</td>\n",
       "      <td>2.7</td>\n",
       "      <td>Colon</td>\n",
       "      <td>Stage I</td>\n",
       "      <td>67446.25</td>\n",
       "      <td>1.6</td>\n",
       "      <td>3.12</td>\n",
       "    </tr>\n",
       "    <tr>\n",
       "      <th>4</th>\n",
       "      <td>PT0000004</td>\n",
       "      <td>43</td>\n",
       "      <td>Female</td>\n",
       "      <td>Brazil</td>\n",
       "      <td>2017</td>\n",
       "      <td>5.1</td>\n",
       "      <td>2.8</td>\n",
       "      <td>2.3</td>\n",
       "      <td>6.7</td>\n",
       "      <td>0.5</td>\n",
       "      <td>Skin</td>\n",
       "      <td>Stage III</td>\n",
       "      <td>77977.12</td>\n",
       "      <td>2.9</td>\n",
       "      <td>3.62</td>\n",
       "    </tr>\n",
       "  </tbody>\n",
       "</table>\n",
       "</div>"
      ],
      "text/plain": [
       "  Patient_ID  Age  Gender Country_Region  Year  Genetic_Risk  Air_Pollution  \\\n",
       "0  PT0000000   71    Male             UK  2021           6.4            2.8   \n",
       "1  PT0000001   34    Male          China  2021           1.3            4.5   \n",
       "2  PT0000002   80    Male       Pakistan  2023           7.4            7.9   \n",
       "3  PT0000003   40    Male             UK  2015           1.7            2.9   \n",
       "4  PT0000004   43  Female         Brazil  2017           5.1            2.8   \n",
       "\n",
       "   Alcohol_Use  Smoking  Obesity_Level Cancer_Type Cancer_Stage  \\\n",
       "0          9.5      0.9            8.7        Lung    Stage III   \n",
       "1          3.7      3.9            6.3    Leukemia      Stage 0   \n",
       "2          2.4      4.7            0.1      Breast     Stage II   \n",
       "3          4.8      3.5            2.7       Colon      Stage I   \n",
       "4          2.3      6.7            0.5        Skin    Stage III   \n",
       "\n",
       "   Treatment_Cost_USD  Survival_Years  Target_Severity_Score  \n",
       "0            62913.44             5.9                   4.92  \n",
       "1            12573.41             4.7                   4.65  \n",
       "2             6984.33             7.1                   5.84  \n",
       "3            67446.25             1.6                   3.12  \n",
       "4            77977.12             2.9                   3.62  "
      ]
     },
     "execution_count": 34,
     "metadata": {},
     "output_type": "execute_result"
    }
   ],
   "source": [
    "df.head()"
   ]
  },
  {
   "cell_type": "code",
   "execution_count": 8,
   "id": "d41d1766",
   "metadata": {},
   "outputs": [],
   "source": [
    "import seaborn as sns\n",
    "import matplotlib.pyplot as plt\n",
    "import numpy as np\n",
    "%matplotlib inline"
   ]
  },
  {
   "cell_type": "code",
   "execution_count": 35,
   "id": "ba2af229",
   "metadata": {},
   "outputs": [
    {
     "data": {
      "text/html": [
       "<div>\n",
       "<style scoped>\n",
       "    .dataframe tbody tr th:only-of-type {\n",
       "        vertical-align: middle;\n",
       "    }\n",
       "\n",
       "    .dataframe tbody tr th {\n",
       "        vertical-align: top;\n",
       "    }\n",
       "\n",
       "    .dataframe thead th {\n",
       "        text-align: right;\n",
       "    }\n",
       "</style>\n",
       "<table border=\"1\" class=\"dataframe\">\n",
       "  <thead>\n",
       "    <tr style=\"text-align: right;\">\n",
       "      <th></th>\n",
       "      <th>Patient_ID</th>\n",
       "      <th>Age</th>\n",
       "      <th>Gender</th>\n",
       "      <th>Country_Region</th>\n",
       "      <th>Year</th>\n",
       "      <th>Genetic_Risk</th>\n",
       "      <th>Air_Pollution</th>\n",
       "      <th>Alcohol_Use</th>\n",
       "      <th>Smoking</th>\n",
       "      <th>Obesity_Level</th>\n",
       "      <th>Cancer_Type</th>\n",
       "      <th>Cancer_Stage</th>\n",
       "      <th>Treatment_Cost_USD</th>\n",
       "      <th>Survival_Years</th>\n",
       "      <th>Target_Severity_Score</th>\n",
       "    </tr>\n",
       "  </thead>\n",
       "  <tbody>\n",
       "    <tr>\n",
       "      <th>49995</th>\n",
       "      <td>PT0049995</td>\n",
       "      <td>80</td>\n",
       "      <td>Male</td>\n",
       "      <td>Pakistan</td>\n",
       "      <td>2023</td>\n",
       "      <td>2.3</td>\n",
       "      <td>7.5</td>\n",
       "      <td>2.8</td>\n",
       "      <td>3.8</td>\n",
       "      <td>2.9</td>\n",
       "      <td>Leukemia</td>\n",
       "      <td>Stage 0</td>\n",
       "      <td>71463.70</td>\n",
       "      <td>1.0</td>\n",
       "      <td>3.63</td>\n",
       "    </tr>\n",
       "    <tr>\n",
       "      <th>49996</th>\n",
       "      <td>PT0049996</td>\n",
       "      <td>40</td>\n",
       "      <td>Female</td>\n",
       "      <td>USA</td>\n",
       "      <td>2018</td>\n",
       "      <td>6.4</td>\n",
       "      <td>3.5</td>\n",
       "      <td>2.9</td>\n",
       "      <td>9.0</td>\n",
       "      <td>9.8</td>\n",
       "      <td>Colon</td>\n",
       "      <td>Stage I</td>\n",
       "      <td>49619.66</td>\n",
       "      <td>0.4</td>\n",
       "      <td>6.03</td>\n",
       "    </tr>\n",
       "    <tr>\n",
       "      <th>49997</th>\n",
       "      <td>PT0049997</td>\n",
       "      <td>74</td>\n",
       "      <td>Male</td>\n",
       "      <td>Pakistan</td>\n",
       "      <td>2015</td>\n",
       "      <td>6.2</td>\n",
       "      <td>1.6</td>\n",
       "      <td>8.7</td>\n",
       "      <td>4.7</td>\n",
       "      <td>4.0</td>\n",
       "      <td>Breast</td>\n",
       "      <td>Stage 0</td>\n",
       "      <td>5338.25</td>\n",
       "      <td>2.7</td>\n",
       "      <td>6.02</td>\n",
       "    </tr>\n",
       "    <tr>\n",
       "      <th>49998</th>\n",
       "      <td>PT0049998</td>\n",
       "      <td>21</td>\n",
       "      <td>Male</td>\n",
       "      <td>Brazil</td>\n",
       "      <td>2018</td>\n",
       "      <td>4.0</td>\n",
       "      <td>6.5</td>\n",
       "      <td>7.6</td>\n",
       "      <td>8.6</td>\n",
       "      <td>8.1</td>\n",
       "      <td>Liver</td>\n",
       "      <td>Stage IV</td>\n",
       "      <td>45100.47</td>\n",
       "      <td>7.5</td>\n",
       "      <td>6.54</td>\n",
       "    </tr>\n",
       "    <tr>\n",
       "      <th>49999</th>\n",
       "      <td>PT0049999</td>\n",
       "      <td>22</td>\n",
       "      <td>Male</td>\n",
       "      <td>Pakistan</td>\n",
       "      <td>2023</td>\n",
       "      <td>5.1</td>\n",
       "      <td>9.8</td>\n",
       "      <td>3.2</td>\n",
       "      <td>0.0</td>\n",
       "      <td>0.7</td>\n",
       "      <td>Liver</td>\n",
       "      <td>Stage 0</td>\n",
       "      <td>64023.82</td>\n",
       "      <td>7.4</td>\n",
       "      <td>3.76</td>\n",
       "    </tr>\n",
       "  </tbody>\n",
       "</table>\n",
       "</div>"
      ],
      "text/plain": [
       "      Patient_ID  Age  Gender Country_Region  Year  Genetic_Risk  \\\n",
       "49995  PT0049995   80    Male       Pakistan  2023           2.3   \n",
       "49996  PT0049996   40  Female            USA  2018           6.4   \n",
       "49997  PT0049997   74    Male       Pakistan  2015           6.2   \n",
       "49998  PT0049998   21    Male         Brazil  2018           4.0   \n",
       "49999  PT0049999   22    Male       Pakistan  2023           5.1   \n",
       "\n",
       "       Air_Pollution  Alcohol_Use  Smoking  Obesity_Level Cancer_Type  \\\n",
       "49995            7.5          2.8      3.8            2.9    Leukemia   \n",
       "49996            3.5          2.9      9.0            9.8       Colon   \n",
       "49997            1.6          8.7      4.7            4.0      Breast   \n",
       "49998            6.5          7.6      8.6            8.1       Liver   \n",
       "49999            9.8          3.2      0.0            0.7       Liver   \n",
       "\n",
       "      Cancer_Stage  Treatment_Cost_USD  Survival_Years  Target_Severity_Score  \n",
       "49995      Stage 0            71463.70             1.0                   3.63  \n",
       "49996      Stage I            49619.66             0.4                   6.03  \n",
       "49997      Stage 0             5338.25             2.7                   6.02  \n",
       "49998     Stage IV            45100.47             7.5                   6.54  \n",
       "49999      Stage 0            64023.82             7.4                   3.76  "
      ]
     },
     "execution_count": 35,
     "metadata": {},
     "output_type": "execute_result"
    }
   ],
   "source": [
    "df.tail()"
   ]
  },
  {
   "cell_type": "code",
   "execution_count": 36,
   "id": "ae0e214a",
   "metadata": {},
   "outputs": [
    {
     "data": {
      "image/png": "[encoded data removed]",
      "text/plain": [
       "<Figure size 800x400 with 1 Axes>"
      ]
     },
     "metadata": {},
     "output_type": "display_data"
    }
   ],
   "source": [
    "fig = plt.figure(figsize=(8, 4))\n",
    "sns.countplot(x='Cancer_Type', data=df, palette='magma', hue='Gender')\n",
    "plt.title('Distribution of Cancer Types')\n",
    "plt.xlabel('Cancer Type')\n",
    "plt.ylabel('Count')\n",
    "plt.legend(loc='lower left')\n",
    "plt.show()"
   ]
  },
  {
   "cell_type": "code",
   "execution_count": null,
   "id": "7a44d5f8",
   "metadata": {},
   "outputs": [
    {
     "name": "stderr",
     "output_type": "stream",
     "text": [
      "C:\\Users\\aaron\\AppData\\Local\\Temp\\ipykernel_21512\\2976110697.py:2: FutureWarning:\n",
      "\n",
      "\n",
      "\n",
      "Passing `palette` without assigning `hue` is deprecated and will be removed in v0.14.0. Assign the `x` variable to `hue` and set `legend=False` for the same effect.\n",
      "\n",
      "\n"
     ]
    },
    {
     "data": {
      "image/png": "[encoded data removed]",
      "text/plain": [
       "<Figure size 600x400 with 1 Axes>"
      ]
     },
     "metadata": {},
     "output_type": "display_data"
    }
   ],
   "source": [
    "fig = plt.figure(figsize=(6, 4))\n",
    "sns.countplot(x='Country_Region', data=df, palette='magma')\n",
    "plt.xticks(rotation=45)\n",
    "plt.xlabel\n",
    "plt.show()"
   ]
  },
  {
   "cell_type": "code",
   "execution_count": 69,
   "id": "ad083eb5",
   "metadata": {},
   "outputs": [
    {
     "data": {
      "application/vnd.plotly.v1+json": {
       "config": {
        "plotlyServerURL": "https://plot.ly"
       },
       "data": [
        {
         "hovertemplate": "Cancer Type=Breast<br>Age=%{x}<br>Count=%{y}<extra></extra>",
         "legendgroup": "Breast",
         "line": {
          "color": "#636efa",
          "dash": "solid"
         },
         "marker": {
          "symbol": "circle"
         },
         "mode": "lines",
         "name": "Breast",
         "orientation": "v",
         "showlegend": true,
         "type": "scatter",
         "x": [
          20,
          21,
          22,
          23,
          24,
          25,
          26,
          27,
          28,
          29,
          30,
          31,
          32,
          33,
          34,
          35,
          36,
          37,
          38,
          39,
          40,
          41,
          42,
          43,
          44,
          45,
          46,
          47,
          48,
          49,
          50,
          51,
          52,
          53,
          54,
          55,
          56,
          57,
          58,
          59,
          60,
          61,
          62,
          63,
          64,
          65,
          66,
          67,
          68,
          69,
          70,
          71,
          72,
          73,
          74,
          75,
          76,
          77,
          78,
          79,
          80,
          81,
          82,
          83,
          84,
          85,
          86,
          87,
          88,
          89
         ],
         "xaxis": "x",
         "y": [
          84,
          100,
          78,
          72,
          103,
          97,
          97,
          92,
          97,
          89,
          81,
          100,
          84,
          86,
          96,
          83,
          114,
          94,
          79,
          91,
          98,
          105,
          87,
          66,
          83,
          94,
          90,
          92,
          93,
          108,
          70,
          93,
          91,
          90,
          72,
          84,
          81,
          95,
          79,
          79,
          96,
          87,
          74,
          82,
          82,
          84,
          85,
          79,
          91,
          86,
          79,
          84,
          79,
          96,
          91,
          93,
          101,
          99,
          84,
          97,
          88,
          87,
          101,
          79,
          74,
          85,
          90,
          77,
          106,
          86
         ],
         "yaxis": "y"
        },
        {
         "hovertemplate": "Cancer Type=Cervical<br>Age=%{x}<br>Count=%{y}<extra></extra>",
         "legendgroup": "Cervical",
         "line": {
          "color": "#EF553B",
          "dash": "solid"
         },
         "marker": {
          "symbol": "circle"
         },
         "mode": "lines",
         "name": "Cervical",
         "orientation": "v",
         "showlegend": true,
         "type": "scatter",
         "x": [
          20,
          21,
          22,
          23,
          24,
          25,
          26,
          27,
          28,
          29,
          30,
          31,
          32,
          33,
          34,
          35,
          36,
          37,
          38,
          39,
          40,
          41,
          42,
          43,
          44,
          45,
          46,
          47,
          48,
          49,
          50,
          51,
          52,
          53,
          54,
          55,
          56,
          57,
          58,
          59,
          60,
          61,
          62,
          63,
          64,
          65,
          66,
          67,
          68,
          69,
          70,
          71,
          72,
          73,
          74,
          75,
          76,
          77,
          78,
          79,
          80,
          81,
          82,
          83,
          84,
          85,
          86,
          87,
          88,
          89
         ],
         "xaxis": "x",
         "y": [
          84,
          88,
          94,
          90,
          82,
          108,
          69,
          88,
          80,
          88,
          76,
          82,
          97,
          87,
          94,
          99,
          80,
          88,
          95,
          70,
          95,
          91,
          102,
          89,
          95,
          92,
          86,
          93,
          95,
          97,
          97,
          88,
          82,
          76,
          77,
          82,
          78,
          84,
          86,
          80,
          74,
          93,
          84,
          111,
          97,
          81,
          83,
          104,
          91,
          85,
          74,
          114,
          74,
          87,
          86,
          97,
          103,
          96,
          93,
          101,
          100,
          95,
          95,
          83,
          74,
          104,
          76,
          91,
          89,
          83
         ],
         "yaxis": "y"
        },
        {
         "hovertemplate": "Cancer Type=Colon<br>Age=%{x}<br>Count=%{y}<extra></extra>",
         "legendgroup": "Colon",
         "line": {
          "color": "#00cc96",
          "dash": "solid"
         },
         "marker": {
          "symbol": "circle"
         },
         "mode": "lines",
         "name": "Colon",
         "orientation": "v",
         "showlegend": true,
         "type": "scatter",
         "x": [
          20,
          21,
          22,
          23,
          24,
          25,
          26,
          27,
          28,
          29,
          30,
          31,
          32,
          33,
          34,
          35,
          36,
          37,
          38,
          39,
          40,
          41,
          42,
          43,
          44,
          45,
          46,
          47,
          48,
          49,
          50,
          51,
          52,
          53,
          54,
          55,
          56,
          57,
          58,
          59,
          60,
          61,
          62,
          63,
          64,
          65,
          66,
          67,
          68,
          69,
          70,
          71,
          72,
          73,
          74,
          75,
          76,
          77,
          78,
          79,
          80,
          81,
          82,
          83,
          84,
          85,
          86,
          87,
          88,
          89
         ],
         "xaxis": "x",
         "y": [
          88,
          97,
          75,
          106,
          81,
          83,
          73,
          94,
          98,
          93,
          95,
          94,
          92,
          81,
          93,
          96,
          94,
          80,
          101,
          65,
          88,
          113,
          98,
          102,
          83,
          100,
          80,
          99,
          99,
          94,
          90,
          96,
          73,
          79,
          100,
          83,
          87,
          79,
          89,
          90,
          83,
          89,
          83,
          91,
          105,
          88,
          95,
          107,
          89,
          94,
          94,
          74,
          99,
          105,
          93,
          98,
          86,
          113,
          88,
          86,
          89,
          90,
          100,
          81,
          101,
          100,
          97,
          79,
          101,
          77
         ],
         "yaxis": "y"
        },
        {
         "hovertemplate": "Cancer Type=Leukemia<br>Age=%{x}<br>Count=%{y}<extra></extra>",
         "legendgroup": "Leukemia",
         "line": {
          "color": "#ab63fa",
          "dash": "solid"
         },
         "marker": {
          "symbol": "circle"
         },
         "mode": "lines",
         "name": "Leukemia",
         "orientation": "v",
         "showlegend": true,
         "type": "scatter",
         "x": [
          20,
          21,
          22,
          23,
          24,
          25,
          26,
          27,
          28,
          29,
          30,
          31,
          32,
          33,
          34,
          35,
          36,
          37,
          38,
          39,
          40,
          41,
          42,
          43,
          44,
          45,
          46,
          47,
          48,
          49,
          50,
          51,
          52,
          53,
          54,
          55,
          56,
          57,
          58,
          59,
          60,
          61,
          62,
          63,
          64,
          65,
          66,
          67,
          68,
          69,
          70,
          71,
          72,
          73,
          74,
          75,
          76,
          77,
          78,
          79,
          80,
          81,
          82,
          83,
          84,
          85,
          86,
          87,
          88,
          89
         ],
         "xaxis": "x",
         "y": [
          98,
          98,
          95,
          86,
          96,
          100,
          87,
          69,
          109,
          97,
          91,
          77,
          105,
          89,
          94,
          101,
          91,
          83,
          88,
          80,
          90,
          81,
          87,
          114,
          92,
          90,
          101,
          87,
          86,
          76,
          77,
          77,
          97,
          85,
          91,
          94,
          68,
          106,
          84,
          80,
          77,
          96,
          83,
          112,
          95,
          93,
          70,
          89,
          101,
          57,
          101,
          97,
          94,
          84,
          92,
          98,
          76,
          98,
          87,
          79,
          97,
          92,
          92,
          84,
          95,
          107,
          95,
          68,
          81,
          79
         ],
         "yaxis": "y"
        },
        {
         "hovertemplate": "Cancer Type=Liver<br>Age=%{x}<br>Count=%{y}<extra></extra>",
         "legendgroup": "Liver",
         "line": {
          "color": "#FFA15A",
          "dash": "solid"
         },
         "marker": {
          "symbol": "circle"
         },
         "mode": "lines",
         "name": "Liver",
         "orientation": "v",
         "showlegend": true,
         "type": "scatter",
         "x": [
          20,
          21,
          22,
          23,
          24,
          25,
          26,
          27,
          28,
          29,
          30,
          31,
          32,
          33,
          34,
          35,
          36,
          37,
          38,
          39,
          40,
          41,
          42,
          43,
          44,
          45,
          46,
          47,
          48,
          49,
          50,
          51,
          52,
          53,
          54,
          55,
          56,
          57,
          58,
          59,
          60,
          61,
          62,
          63,
          64,
          65,
          66,
          67,
          68,
          69,
          70,
          71,
          72,
          73,
          74,
          75,
          76,
          77,
          78,
          79,
          80,
          81,
          82,
          83,
          84,
          85,
          86,
          87,
          88,
          89
         ],
         "xaxis": "x",
         "y": [
          105,
          104,
          79,
          86,
          87,
          87,
          87,
          100,
          84,
          108,
          89,
          79,
          91,
          78,
          83,
          90,
          95,
          84,
          88,
          76,
          113,
          87,
          86,
          104,
          82,
          89,
          80,
          100,
          85,
          99,
          80,
          94,
          91,
          97,
          98,
          103,
          101,
          90,
          85,
          80,
          90,
          87,
          86,
          78,
          94,
          85,
          87,
          100,
          66,
          101,
          86,
          93,
          100,
          81,
          84,
          89,
          88,
          95,
          89,
          85,
          99,
          81,
          98,
          85,
          74,
          75,
          91,
          96,
          66,
          96
         ],
         "yaxis": "y"
        },
        {
         "hovertemplate": "Cancer Type=Lung<br>Age=%{x}<br>Count=%{y}<extra></extra>",
         "legendgroup": "Lung",
         "line": {
          "color": "#19d3f3",
          "dash": "solid"
         },
         "marker": {
          "symbol": "circle"
         },
         "mode": "lines",
         "name": "Lung",
         "orientation": "v",
         "showlegend": true,
         "type": "scatter",
         "x": [
          20,
          21,
          22,
          23,
          24,
          25,
          26,
          27,
          28,
          29,
          30,
          31,
          32,
          33,
          34,
          35,
          36,
          37,
          38,
          39,
          40,
          41,
          42,
          43,
          44,
          45,
          46,
          47,
          48,
          49,
          50,
          51,
          52,
          53,
          54,
          55,
          56,
          57,
          58,
          59,
          60,
          61,
          62,
          63,
          64,
          65,
          66,
          67,
          68,
          69,
          70,
          71,
          72,
          73,
          74,
          75,
          76,
          77,
          78,
          79,
          80,
          81,
          82,
          83,
          84,
          85,
          86,
          87,
          88,
          89
         ],
         "xaxis": "x",
         "y": [
          80,
          91,
          90,
          89,
          76,
          78,
          91,
          84,
          83,
          78,
          89,
          81,
          103,
          86,
          98,
          94,
          92,
          98,
          108,
          103,
          92,
          72,
          89,
          81,
          82,
          93,
          86,
          88,
          90,
          93,
          79,
          96,
          73,
          84,
          81,
          84,
          98,
          92,
          78,
          87,
          76,
          102,
          81,
          102,
          88,
          75,
          100,
          96,
          90,
          86,
          85,
          99,
          80,
          73,
          90,
          70,
          85,
          120,
          86,
          82,
          83,
          83,
          90,
          92,
          83,
          94,
          74,
          114,
          93,
          77
         ],
         "yaxis": "y"
        },
        {
         "hovertemplate": "Cancer Type=Prostate<br>Age=%{x}<br>Count=%{y}<extra></extra>",
         "legendgroup": "Prostate",
         "line": {
          "color": "#FF6692",
          "dash": "solid"
         },
         "marker": {
          "symbol": "circle"
         },
         "mode": "lines",
         "name": "Prostate",
         "orientation": "v",
         "showlegend": true,
         "type": "scatter",
         "x": [
          20,
          21,
          22,
          23,
          24,
          25,
          26,
          27,
          28,
          29,
          30,
          31,
          32,
          33,
          34,
          35,
          36,
          37,
          38,
          39,
          40,
          41,
          42,
          43,
          44,
          45,
          46,
          47,
          48,
          49,
          50,
          51,
          52,
          53,
          54,
          55,
          56,
          57,
          58,
          59,
          60,
          61,
          62,
          63,
          64,
          65,
          66,
          67,
          68,
          69,
          70,
          71,
          72,
          73,
          74,
          75,
          76,
          77,
          78,
          79,
          80,
          81,
          82,
          83,
          84,
          85,
          86,
          87,
          88,
          89
         ],
         "xaxis": "x",
         "y": [
          83,
          85,
          105,
          107,
          109,
          82,
          82,
          86,
          75,
          88,
          86,
          87,
          95,
          85,
          100,
          87,
          98,
          106,
          86,
          86,
          88,
          80,
          82,
          86,
          98,
          84,
          90,
          97,
          97,
          81,
          85,
          88,
          76,
          72,
          75,
          101,
          90,
          105,
          96,
          105,
          94,
          77,
          99,
          95,
          101,
          78,
          97,
          85,
          79,
          92,
          109,
          96,
          93,
          106,
          73,
          69,
          84,
          83,
          94,
          94,
          77,
          108,
          113,
          97,
          86,
          89,
          96,
          85,
          87,
          78
         ],
         "yaxis": "y"
        },
        {
         "hovertemplate": "Cancer Type=Skin<br>Age=%{x}<br>Count=%{y}<extra></extra>",
         "legendgroup": "Skin",
         "line": {
          "color": "#B6E880",
          "dash": "solid"
         },
         "marker": {
          "symbol": "circle"
         },
         "mode": "lines",
         "name": "Skin",
         "orientation": "v",
         "showlegend": true,
         "type": "scatter",
         "x": [
          20,
          21,
          22,
          23,
          24,
          25,
          26,
          27,
          28,
          29,
          30,
          31,
          32,
          33,
          34,
          35,
          36,
          37,
          38,
          39,
          40,
          41,
          42,
          43,
          44,
          45,
          46,
          47,
          48,
          49,
          50,
          51,
          52,
          53,
          54,
          55,
          56,
          57,
          58,
          59,
          60,
          61,
          62,
          63,
          64,
          65,
          66,
          67,
          68,
          69,
          70,
          71,
          72,
          73,
          74,
          75,
          76,
          77,
          78,
          79,
          80,
          81,
          82,
          83,
          84,
          85,
          86,
          87,
          88,
          89
         ],
         "xaxis": "x",
         "y": [
          81,
          77,
          106,
          89,
          103,
          93,
          96,
          89,
          97,
          88,
          86,
          106,
          99,
          92,
          81,
          72,
          94,
          89,
          82,
          95,
          91,
          89,
          92,
          70,
          81,
          105,
          87,
          78,
          90,
          84,
          88,
          90,
          92,
          85,
          83,
          103,
          91,
          91,
          106,
          104,
          89,
          74,
          85,
          86,
          79,
          100,
          87,
          83,
          85,
          84,
          103,
          91,
          84,
          98,
          87,
          87,
          70,
          81,
          98,
          98,
          82,
          87,
          88,
          77,
          81,
          75,
          93,
          111,
          89,
          84
         ],
         "yaxis": "y"
        }
       ],
       "layout": {
        "legend": {
         "title": {
          "text": "Cancer Type"
         },
         "tracegroupgap": 0
        },
        "template": {
         "data": {
          "bar": [
           {
            "error_x": {
             "color": "#2a3f5f"
            },
            "error_y": {
             "color": "#2a3f5f"
            },
            "marker": {
             "line": {
              "color": "white",
              "width": 0.5
             },
             "pattern": {
              "fillmode": "overlay",
              "size": 10,
              "solidity": 0.2
             }
            },
            "type": "bar"
           }
          ],
          "barpolar": [
           {
            "marker": {
             "line": {
              "color": "white",
              "width": 0.5
             },
             "pattern": {
              "fillmode": "overlay",
              "size": 10,
              "solidity": 0.2
             }
            },
            "type": "barpolar"
           }
          ],
          "carpet": [
           {
            "aaxis": {
             "endlinecolor": "#2a3f5f",
             "gridcolor": "#C8D4E3",
             "linecolor": "#C8D4E3",
             "minorgridcolor": "#C8D4E3",
             "startlinecolor": "#2a3f5f"
            },
            "baxis": {
             "endlinecolor": "#2a3f5f",
             "gridcolor": "#C8D4E3",
             "linecolor": "#C8D4E3",
             "minorgridcolor": "#C8D4E3",
             "startlinecolor": "#2a3f5f"
            },
            "type": "carpet"
           }
          ],
          "choropleth": [
           {
            "colorbar": {
             "outlinewidth": 0,
             "ticks": ""
            },
            "type": "choropleth"
           }
          ],
          "contour": [
           {
            "colorbar": {
             "outlinewidth": 0,
             "ticks": ""
            },
            "colorscale": [
             [
              0,
              "#0d0887"
             ],
             [
              0.1111111111111111,
              "#46039f"
             ],
             [
              0.2222222222222222,
              "#7201a8"
             ],
             [
              0.3333333333333333,
              "#9c179e"
             ],
             [
              0.4444444444444444,
              "#bd3786"
             ],
             [
              0.5555555555555556,
              "#d8576b"
             ],
             [
              0.6666666666666666,
              "#ed7953"
             ],
             [
              0.7777777777777778,
              "#fb9f3a"
             ],
             [
              0.8888888888888888,
              "#fdca26"
             ],
             [
              1,
              "#f0f921"
             ]
            ],
            "type": "contour"
           }
          ],
          "contourcarpet": [
           {
            "colorbar": {
             "outlinewidth": 0,
             "ticks": ""
            },
            "type": "contourcarpet"
           }
          ],
          "heatmap": [
           {
            "colorbar": {
             "outlinewidth": 0,
             "ticks": ""
            },
            "colorscale": [
             [
              0,
              "#0d0887"
             ],
             [
              0.1111111111111111,
              "#46039f"
             ],
             [
              0.2222222222222222,
              "#7201a8"
             ],
             [
              0.3333333333333333,
              "#9c179e"
             ],
             [
              0.4444444444444444,
              "#bd3786"
             ],
             [
              0.5555555555555556,
              "#d8576b"
             ],
             [
              0.6666666666666666,
              "#ed7953"
             ],
             [
              0.7777777777777778,
              "#fb9f3a"
             ],
             [
              0.8888888888888888,
              "#fdca26"
             ],
             [
              1,
              "#f0f921"
             ]
            ],
            "type": "heatmap"
           }
          ],
          "heatmapgl": [
           {
            "colorbar": {
             "outlinewidth": 0,
             "ticks": ""
            },
            "colorscale": [
             [
              0,
              "#0d0887"
             ],
             [
              0.1111111111111111,
              "#46039f"
             ],
             [
              0.2222222222222222,
              "#7201a8"
             ],
             [
              0.3333333333333333,
              "#9c179e"
             ],
             [
              0.4444444444444444,
              "#bd3786"
             ],
             [
              0.5555555555555556,
              "#d8576b"
             ],
             [
              0.6666666666666666,
              "#ed7953"
             ],
             [
              0.7777777777777778,
              "#fb9f3a"
             ],
             [
              0.8888888888888888,
              "#fdca26"
             ],
             [
              1,
              "#f0f921"
             ]
            ],
            "type": "heatmapgl"
           }
          ],
          "histogram": [
           {
            "marker": {
             "pattern": {
              "fillmode": "overlay",
              "size": 10,
              "solidity": 0.2
             }
            },
            "type": "histogram"
           }
          ],
          "histogram2d": [
           {
            "colorbar": {
             "outlinewidth": 0,
             "ticks": ""
            },
            "colorscale": [
             [
              0,
              "#0d0887"
             ],
             [
              0.1111111111111111,
              "#46039f"
             ],
             [
              0.2222222222222222,
              "#7201a8"
             ],
             [
              0.3333333333333333,
              "#9c179e"
             ],
             [
              0.4444444444444444,
              "#bd3786"
             ],
             [
              0.5555555555555556,
              "#d8576b"
             ],
             [
              0.6666666666666666,
              "#ed7953"
             ],
             [
              0.7777777777777778,
              "#fb9f3a"
             ],
             [
              0.8888888888888888,
              "#fdca26"
             ],
             [
              1,
              "#f0f921"
             ]
            ],
            "type": "histogram2d"
           }
          ],
          "histogram2dcontour": [
           {
            "colorbar": {
             "outlinewidth": 0,
             "ticks": ""
            },
            "colorscale": [
             [
              0,
              "#0d0887"
             ],
             [
              0.1111111111111111,
              "#46039f"
             ],
             [
              0.2222222222222222,
              "#7201a8"
             ],
             [
              0.3333333333333333,
              "#9c179e"
             ],
             [
              0.4444444444444444,
              "#bd3786"
             ],
             [
              0.5555555555555556,
              "#d8576b"
             ],
             [
              0.6666666666666666,
              "#ed7953"
             ],
             [
              0.7777777777777778,
              "#fb9f3a"
             ],
             [
              0.8888888888888888,
              "#fdca26"
             ],
             [
              1,
              "#f0f921"
             ]
            ],
            "type": "histogram2dcontour"
           }
          ],
          "mesh3d": [
           {
            "colorbar": {
             "outlinewidth": 0,
             "ticks": ""
            },
            "type": "mesh3d"
           }
          ],
          "parcoords": [
           {
            "line": {
             "colorbar": {
              "outlinewidth": 0,
              "ticks": ""
             }
            },
            "type": "parcoords"
           }
          ],
          "pie": [
           {
            "automargin": true,
            "type": "pie"
           }
          ],
          "scatter": [
           {
            "fillpattern": {
             "fillmode": "overlay",
             "size": 10,
             "solidity": 0.2
            },
            "type": "scatter"
           }
          ],
          "scatter3d": [
           {
            "line": {
             "colorbar": {
              "outlinewidth": 0,
              "ticks": ""
             }
            },
            "marker": {
             "colorbar": {
              "outlinewidth": 0,
              "ticks": ""
             }
            },
            "type": "scatter3d"
           }
          ],
          "scattercarpet": [
           {
            "marker": {
             "colorbar": {
              "outlinewidth": 0,
              "ticks": ""
             }
            },
            "type": "scattercarpet"
           }
          ],
          "scattergeo": [
           {
            "marker": {
             "colorbar": {
              "outlinewidth": 0,
              "ticks": ""
             }
            },
            "type": "scattergeo"
           }
          ],
          "scattergl": [
           {
            "marker": {
             "colorbar": {
              "outlinewidth": 0,
              "ticks": ""
             }
            },
            "type": "scattergl"
           }
          ],
          "scattermapbox": [
           {
            "marker": {
             "colorbar": {
              "outlinewidth": 0,
              "ticks": ""
             }
            },
            "type": "scattermapbox"
           }
          ],
          "scatterpolar": [
           {
            "marker": {
             "colorbar": {
              "outlinewidth": 0,
              "ticks": ""
             }
            },
            "type": "scatterpolar"
           }
          ],
          "scatterpolargl": [
           {
            "marker": {
             "colorbar": {
              "outlinewidth": 0,
              "ticks": ""
             }
            },
            "type": "scatterpolargl"
           }
          ],
          "scatterternary": [
           {
            "marker": {
             "colorbar": {
              "outlinewidth": 0,
              "ticks": ""
             }
            },
            "type": "scatterternary"
           }
          ],
          "surface": [
           {
            "colorbar": {
             "outlinewidth": 0,
             "ticks": ""
            },
            "colorscale": [
             [
              0,
              "#0d0887"
             ],
             [
              0.1111111111111111,
              "#46039f"
             ],
             [
              0.2222222222222222,
              "#7201a8"
             ],
             [
              0.3333333333333333,
              "#9c179e"
             ],
             [
              0.4444444444444444,
              "#bd3786"
             ],
             [
              0.5555555555555556,
              "#d8576b"
             ],
             [
              0.6666666666666666,
              "#ed7953"
             ],
             [
              0.7777777777777778,
              "#fb9f3a"
             ],
             [
              0.8888888888888888,
              "#fdca26"
             ],
             [
              1,
              "#f0f921"
             ]
            ],
            "type": "surface"
           }
          ],
          "table": [
           {
            "cells": {
             "fill": {
              "color": "#EBF0F8"
             },
             "line": {
              "color": "white"
             }
            },
            "header": {
             "fill": {
              "color": "#C8D4E3"
             },
             "line": {
              "color": "white"
             }
            },
            "type": "table"
           }
          ]
         },
         "layout": {
          "annotationdefaults": {
           "arrowcolor": "#2a3f5f",
           "arrowhead": 0,
           "arrowwidth": 1
          },
          "autotypenumbers": "strict",
          "coloraxis": {
           "colorbar": {
            "outlinewidth": 0,
            "ticks": ""
           }
          },
          "colorscale": {
           "diverging": [
            [
             0,
             "#8e0152"
            ],
            [
             0.1,
             "#c51b7d"
            ],
            [
             0.2,
             "#de77ae"
            ],
            [
             0.3,
             "#f1b6da"
            ],
            [
             0.4,
             "#fde0ef"
            ],
            [
             0.5,
             "#f7f7f7"
            ],
            [
             0.6,
             "#e6f5d0"
            ],
            [
             0.7,
             "#b8e186"
            ],
            [
             0.8,
             "#7fbc41"
            ],
            [
             0.9,
             "#4d9221"
            ],
            [
             1,
             "#276419"
            ]
           ],
           "sequential": [
            [
             0,
             "#0d0887"
            ],
            [
             0.1111111111111111,
             "#46039f"
            ],
            [
             0.2222222222222222,
             "#7201a8"
            ],
            [
             0.3333333333333333,
             "#9c179e"
            ],
            [
             0.4444444444444444,
             "#bd3786"
            ],
            [
             0.5555555555555556,
             "#d8576b"
            ],
            [
             0.6666666666666666,
             "#ed7953"
            ],
            [
             0.7777777777777778,
             "#fb9f3a"
            ],
            [
             0.8888888888888888,
             "#fdca26"
            ],
            [
             1,
             "#f0f921"
            ]
           ],
           "sequentialminus": [
            [
             0,
             "#0d0887"
            ],
            [
             0.1111111111111111,
             "#46039f"
            ],
            [
             0.2222222222222222,
             "#7201a8"
            ],
            [
             0.3333333333333333,
             "#9c179e"
            ],
            [
             0.4444444444444444,
             "#bd3786"
            ],
            [
             0.5555555555555556,
             "#d8576b"
            ],
            [
             0.6666666666666666,
             "#ed7953"
            ],
            [
             0.7777777777777778,
             "#fb9f3a"
            ],
            [
             0.8888888888888888,
             "#fdca26"
            ],
            [
             1,
             "#f0f921"
            ]
           ]
          },
          "colorway": [
           "#636efa",
           "#EF553B",
           "#00cc96",
           "#ab63fa",
           "#FFA15A",
           "#19d3f3",
           "#FF6692",
           "#B6E880",
           "#FF97FF",
           "#FECB52"
          ],
          "font": {
           "color": "#2a3f5f"
          },
          "geo": {
           "bgcolor": "white",
           "lakecolor": "white",
           "landcolor": "white",
           "showlakes": true,
           "showland": true,
           "subunitcolor": "#C8D4E3"
          },
          "hoverlabel": {
           "align": "left"
          },
          "hovermode": "closest",
          "mapbox": {
           "style": "light"
          },
          "paper_bgcolor": "white",
          "plot_bgcolor": "white",
          "polar": {
           "angularaxis": {
            "gridcolor": "#EBF0F8",
            "linecolor": "#EBF0F8",
            "ticks": ""
           },
           "bgcolor": "white",
           "radialaxis": {
            "gridcolor": "#EBF0F8",
            "linecolor": "#EBF0F8",
            "ticks": ""
           }
          },
          "scene": {
           "xaxis": {
            "backgroundcolor": "white",
            "gridcolor": "#DFE8F3",
            "gridwidth": 2,
            "linecolor": "#EBF0F8",
            "showbackground": true,
            "ticks": "",
            "zerolinecolor": "#EBF0F8"
           },
           "yaxis": {
            "backgroundcolor": "white",
            "gridcolor": "#DFE8F3",
            "gridwidth": 2,
            "linecolor": "#EBF0F8",
            "showbackground": true,
            "ticks": "",
            "zerolinecolor": "#EBF0F8"
           },
           "zaxis": {
            "backgroundcolor": "white",
            "gridcolor": "#DFE8F3",
            "gridwidth": 2,
            "linecolor": "#EBF0F8",
            "showbackground": true,
            "ticks": "",
            "zerolinecolor": "#EBF0F8"
           }
          },
          "shapedefaults": {
           "line": {
            "color": "#2a3f5f"
           }
          },
          "ternary": {
           "aaxis": {
            "gridcolor": "#DFE8F3",
            "linecolor": "#A2B1C6",
            "ticks": ""
           },
           "baxis": {
            "gridcolor": "#DFE8F3",
            "linecolor": "#A2B1C6",
            "ticks": ""
           },
           "bgcolor": "white",
           "caxis": {
            "gridcolor": "#DFE8F3",
            "linecolor": "#A2B1C6",
            "ticks": ""
           }
          },
          "title": {
           "x": 0.05
          },
          "xaxis": {
           "automargin": true,
           "gridcolor": "#EBF0F8",
           "linecolor": "#EBF0F8",
           "ticks": "",
           "title": {
            "standoff": 15
           },
           "zerolinecolor": "#EBF0F8",
           "zerolinewidth": 2
          },
          "yaxis": {
           "automargin": true,
           "gridcolor": "#EBF0F8",
           "linecolor": "#EBF0F8",
           "ticks": "",
           "title": {
            "standoff": 15
           },
           "zerolinecolor": "#EBF0F8",
           "zerolinewidth": 2
          }
         }
        },
        "title": {
         "text": "Age Distribution by Cancer Type"
        },
        "xaxis": {
         "anchor": "y",
         "domain": [
          0,
          1
         ],
         "title": {
          "text": "Age"
         }
        },
        "yaxis": {
         "anchor": "x",
         "domain": [
          0,
          1
         ],
         "title": {
          "text": "Count"
         }
        }
       }
      }
     },
     "metadata": {},
     "output_type": "display_data"
    }
   ],
   "source": [
    "import plotly.express as px\n",
    "\n",
    "# Create a DataFrame for age distribution\n",
    "age_distribution = df.groupby(['Age', 'Cancer_Type']).size().reset_index(name='Count')\n",
    "\n",
    "# Plot the interactive line chart\n",
    "fig = px.line(age_distribution, x='Age', y='Count', color='Cancer_Type', \n",
    "              title='Age Distribution by Cancer Type', \n",
    "              labels={'Age': 'Age', 'Count': 'Count', 'Cancer_Type': 'Cancer Type'})\n",
    "fig.update_layout(template='plotly_white')\n",
    "fig.show()"
   ]
  },
  {
   "cell_type": "code",
   "execution_count": null,
   "id": "5a4fcffd",
   "metadata": {},
   "outputs": [],
   "source": []
  }
 ],
 "metadata": {
  "kernelspec": {
   "display_name": "Python 3",
   "language": "python",
   "name": "python3"
  },
  "language_info": {
   "codemirror_mode": {
    "name": "ipython",
    "version": 3
   },
   "file_extension": ".py",
   "mimetype": "text/x-python",
   "name": "python",
   "nbconvert_exporter": "python",
   "pygments_lexer": "ipython3",
   "version": "3.11.4"
  }
 },
 "nbformat": 4,
 "nbformat_minor": 5
}
